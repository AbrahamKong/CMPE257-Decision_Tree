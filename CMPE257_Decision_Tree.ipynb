{
  "nbformat": 4,
  "nbformat_minor": 0,
  "metadata": {
    "colab": {
      "name": "CMPE257-Decision_Tree.ipynb",
      "provenance": [],
      "authorship_tag": "ABX9TyPDhTJSk/E/fjDww+GucyeB",
      "include_colab_link": true
    },
    "kernelspec": {
      "name": "python3",
      "display_name": "Python 3"
    },
    "language_info": {
      "name": "python"
    }
  },
  "cells": [
    {
      "cell_type": "markdown",
      "metadata": {
        "id": "view-in-github",
        "colab_type": "text"
      },
      "source": [
        "<a href=\"https://colab.research.google.com/github/AbrahamKong/CMPE257-Decision_Tree/blob/main/CMPE257_Decision_Tree.ipynb\" target=\"_parent\"><img src=\"https://colab.research.google.com/assets/colab-badge.svg\" alt=\"Open In Colab\"/></a>"
      ]
    },
    {
      "cell_type": "markdown",
      "source": [
        "# Project Statement\n",
        "\n",
        "Author: Abraham Kong\n",
        "\n",
        "Team: Data Miners\n",
        "\n",
        "Objective: \n",
        "Using Classfication methods to find out if Delivery is one parameter effecting the churn rate of customers"
      ],
      "metadata": {
        "id": "wxuit_l7zkgL"
      }
    },
    {
      "cell_type": "markdown",
      "source": [
        "### Data Set\n",
        "\n",
        "[Brazilian E-Commerce Public Dataset by Olist](https://www.kaggle.com/olistbr/brazilian-ecommerce)\n"
      ],
      "metadata": {
        "id": "EKbGCVtQzpv5"
      }
    },
    {
      "cell_type": "code",
      "source": [
        "#Import Necessary Libraries\n",
        "\n",
        "import pandas as pd\n",
        "import numpy as np\n",
        "import matplotlib.pyplot as plt\n",
        "import missingno as msno\n",
        "import seaborn as sns\n",
        "from sklearn.preprocessing import StandardScaler\n",
        "from sklearn.cluster import KMeans\n",
        "from sklearn.metrics import silhouette_score, calinski_harabasz_score, davies_bouldin_score\n",
        "import plotly.express as px\n",
        "from sklearn.mixture import GaussianMixture\n",
        "from sklearn.cluster import Birch\n",
        "from yellowbrick.cluster import KElbowVisualizer\n",
        "from yellowbrick.cluster.elbow import kelbow_visualizer\n",
        "import warnings\n",
        "warnings.filterwarnings(\"ignore\")"
      ],
      "metadata": {
        "id": "QEkiyFMezrNd"
      },
      "execution_count": null,
      "outputs": []
    },
    {
      "cell_type": "code",
      "source": [
        "# Load the Necessary Datasets\n",
        "\n",
        "customers = pd.read_csv('/content/olist_customers_dataset.csv')\n",
        "order_items = pd.read_csv('/content/olist_order_items_dataset.csv')\n",
        "order_payments= pd.read_csv('/content/olist_order_payments_dataset.csv')\n",
        "orders = pd.read_csv('/content/olist_orders_dataset.csv')\n",
        "sellers= pd.read_csv('/content/olist_sellers_dataset.csv')\n",
        "products = pd.read_csv('/content/olist_products_dataset.csv')\n",
        "geolocations = pd.read_csv('/content/olist_geolocation_dataset.csv')"
      ],
      "metadata": {
        "id": "jZkYWVMFzstH"
      },
      "execution_count": null,
      "outputs": []
    }
  ]
}